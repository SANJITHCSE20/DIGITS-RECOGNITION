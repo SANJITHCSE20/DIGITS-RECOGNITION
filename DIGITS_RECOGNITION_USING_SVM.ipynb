{
  "nbformat": 4,
  "nbformat_minor": 0,
  "metadata": {
    "colab": {
      "provenance": [],
      "collapsed_sections": []
    },
    "kernelspec": {
      "name": "python3",
      "display_name": "Python 3"
    },
    "language_info": {
      "name": "python"
    }
  },
  "cells": [
    {
      "cell_type": "markdown",
      "source": [
        "**IMPORTING NECESSARY LIBRARIES**"
      ],
      "metadata": {
        "id": "GSXu2oFu5ejq"
      }
    },
    {
      "cell_type": "code",
      "execution_count": null,
      "metadata": {
        "id": "EYFSgqn19k1s"
      },
      "outputs": [],
      "source": [
        "import numpy as np # for array operations and numeric operations\n",
        "import pandas as pd # used for analysing the data"
      ]
    },
    {
      "cell_type": "code",
      "source": [
        "from sklearn.datasets import load_digits\n",
        "dataset = load_digits()"
      ],
      "metadata": {
        "id": "P9yAj5so56uI"
      },
      "execution_count": null,
      "outputs": []
    },
    {
      "cell_type": "code",
      "source": [
        "dataset"
      ],
      "metadata": {
        "id": "OfmCcWyR6bbv"
      },
      "execution_count": null,
      "outputs": []
    },
    {
      "cell_type": "markdown",
      "source": [
        "**SUMMARING THE DATASET**"
      ],
      "metadata": {
        "id": "Of57oWMU6gqQ"
      }
    },
    {
      "cell_type": "code",
      "source": [
        "print(dataset.data)\n",
        "print(dataset.target)\n",
        "\n",
        "print(dataset.data.shape)\n",
        "print(dataset.images.shape)\n",
        "\n",
        "\n",
        "dataimglen = len(dataset.images)\n",
        "print(dataimglen)"
      ],
      "metadata": {
        "colab": {
          "base_uri": "https://localhost:8080/"
        },
        "id": "qxyN4Pf06osj",
        "outputId": "c1e8faf1-02c8-420d-a0ee-93c1b3671300"
      },
      "execution_count": null,
      "outputs": [
        {
          "output_type": "stream",
          "name": "stdout",
          "text": [
            "[[ 0.  0.  5. ...  0.  0.  0.]\n",
            " [ 0.  0.  0. ... 10.  0.  0.]\n",
            " [ 0.  0.  0. ... 16.  9.  0.]\n",
            " ...\n",
            " [ 0.  0.  1. ...  6.  0.  0.]\n",
            " [ 0.  0.  2. ... 12.  0.  0.]\n",
            " [ 0.  0. 10. ... 12.  1.  0.]]\n",
            "[0 1 2 ... 8 9 8]\n",
            "(1797, 64)\n",
            "(1797, 8, 8)\n",
            "1797\n"
          ]
        }
      ]
    },
    {
      "cell_type": "markdown",
      "source": [
        "**VISUALIZE THE DATA**"
      ],
      "metadata": {
        "id": "QCAw5nEQ7fCs"
      }
    },
    {
      "cell_type": "code",
      "source": [
        "n= 1796 # sample no out of 1797 samples\n",
        "\n",
        "import matplotlib.pyplot as plt # data visualizatio library\n",
        "plt.gray()\n",
        "plt.matshow(dataset.images[n])\n",
        "plt.show()"
      ],
      "metadata": {
        "colab": {
          "base_uri": "https://localhost:8080/",
          "height": 292
        },
        "id": "5Uxj0FSK7HJA",
        "outputId": "92fb9367-303e-4338-9763-2c4a223b8915"
      },
      "execution_count": null,
      "outputs": [
        {
          "output_type": "display_data",
          "data": {
            "text/plain": [
              "<Figure size 432x288 with 0 Axes>"
            ]
          },
          "metadata": {}
        },
        {
          "output_type": "display_data",
          "data": {
            "text/plain": [
              "<Figure size 288x288 with 1 Axes>"
            ],
            "image/png": "[encoded data removed]"
          },
          "metadata": {
            "needs_background": "light"
          }
        }
      ]
    },
    {
      "cell_type": "markdown",
      "source": [
        "**SEGREGATING THE DATA INTO INPUT AND OUTPUT**"
      ],
      "metadata": {
        "id": "EwiG1pIi9Qxz"
      }
    },
    {
      "cell_type": "code",
      "source": [
        "X = dataset.images.reshape((dataimglen,-1))\n",
        "X"
      ],
      "metadata": {
        "colab": {
          "base_uri": "https://localhost:8080/"
        },
        "id": "5QcpOECN9Jjg",
        "outputId": "bdc04fcf-ea2b-487e-9e3d-4a9ea8dab023"
      },
      "execution_count": null,
      "outputs": [
        {
          "output_type": "execute_result",
          "data": {
            "text/plain": [
              "array([[ 0.,  0.,  5., ...,  0.,  0.,  0.],\n",
              "       [ 0.,  0.,  0., ..., 10.,  0.,  0.],\n",
              "       [ 0.,  0.,  0., ..., 16.,  9.,  0.],\n",
              "       ...,\n",
              "       [ 0.,  0.,  1., ...,  6.,  0.,  0.],\n",
              "       [ 0.,  0.,  2., ..., 12.,  0.,  0.],\n",
              "       [ 0.,  0., 10., ..., 12.,  1.,  0.]])"
            ]
          },
          "metadata": {},
          "execution_count": 17
        }
      ]
    },
    {
      "cell_type": "code",
      "source": [
        "Y = dataset.target\n",
        "Y"
      ],
      "metadata": {
        "colab": {
          "base_uri": "https://localhost:8080/"
        },
        "id": "Ssiwbhc4-Dab",
        "outputId": "bb86be0c-0911-4999-baed-b7de15310477"
      },
      "execution_count": null,
      "outputs": [
        {
          "output_type": "execute_result",
          "data": {
            "text/plain": [
              "array([0, 1, 2, ..., 8, 9, 8])"
            ]
          },
          "metadata": {},
          "execution_count": 19
        }
      ]
    },
    {
      "cell_type": "markdown",
      "source": [
        "**SPLITTING THE DATASET INTO TRAIN AND TEST**"
      ],
      "metadata": {
        "id": "08L9qFk5-ToM"
      }
    },
    {
      "cell_type": "code",
      "source": [
        "from sklearn.model_selection import train_test_split\n",
        "X_train, X_test, y_train,y_test = train_test_split(X,Y, test_size=0.25, random_state = 0)\n",
        "print(X_train.shape)\n",
        "print(X_test.shape)"
      ],
      "metadata": {
        "colab": {
          "base_uri": "https://localhost:8080/"
        },
        "id": "gVSqVIpD-JtG",
        "outputId": "992f1e73-0c37-4cef-d665-948a9b22c76b"
      },
      "execution_count": null,
      "outputs": [
        {
          "output_type": "stream",
          "name": "stdout",
          "text": [
            "(1347, 64)\n",
            "(450, 64)\n"
          ]
        }
      ]
    },
    {
      "cell_type": "markdown",
      "source": [
        "**TRAINING THE DATASET**"
      ],
      "metadata": {
        "id": "neEonXiG_BGN"
      }
    },
    {
      "cell_type": "code",
      "source": [
        "from sklearn import svm\n",
        "model = svm.SVC()\n",
        "model.fit(X_train,y_train)"
      ],
      "metadata": {
        "colab": {
          "base_uri": "https://localhost:8080/"
        },
        "id": "G9soC70m-seA",
        "outputId": "90849654-c90d-4973-a813-3ec7011bcf15"
      },
      "execution_count": null,
      "outputs": [
        {
          "output_type": "execute_result",
          "data": {
            "text/plain": [
              "SVC()"
            ]
          },
          "metadata": {},
          "execution_count": 22
        },
        {
          "output_type": "execute_result",
          "data": {
            "text/plain": [
              "SVC()"
            ]
          },
          "metadata": {},
          "execution_count": 23
        }
      ]
    },
    {
      "cell_type": "markdown",
      "source": [
        "**PREDICTING THE TESTDATA**"
      ],
      "metadata": {
        "id": "bOjeEmAp_drf"
      }
    },
    {
      "cell_type": "code",
      "source": [
        "y_pred = model.predict(X_test)"
      ],
      "metadata": {
        "id": "hq70C4cz_Wn3"
      },
      "execution_count": null,
      "outputs": []
    },
    {
      "cell_type": "markdown",
      "source": [
        "**EVALUATING THE MODEL TESTING ACCURACY**"
      ],
      "metadata": {
        "id": "MDvZlrHkAF8l"
      }
    },
    {
      "cell_type": "code",
      "source": [
        "from sklearn.metrics import accuracy_score\n",
        "print(\"Accuracy score of our model is : {0}%\".format(accuracy_score(y_test,y_pred)*100))"
      ],
      "metadata": {
        "colab": {
          "base_uri": "https://localhost:8080/"
        },
        "id": "OPufzpK5AKtp",
        "outputId": "810d2298-63e2-472e-c9a5-3907f17fdb02"
      },
      "execution_count": null,
      "outputs": [
        {
          "output_type": "stream",
          "name": "stdout",
          "text": [
            "Accuracy score of our model is : 99.11111111111111%\n"
          ]
        }
      ]
    },
    {
      "cell_type": "markdown",
      "source": [
        "**PREDICTING WHAT THE DIGITS IS FROM TEST DATA**"
      ],
      "metadata": {
        "id": "apWWW3UbDvPa"
      }
    },
    {
      "cell_type": "code",
      "source": [
        "n= 1028\n",
        "result = model.predict(dataset.images[n].reshape((1,-1)))\n",
        "plt.imshow(dataset.images[n], cmap = plt.cm.gray_r, interpolation = 'nearest')\n",
        "print(result)\n",
        "print(\"\\n\")\n",
        "plt.axis(\"off\")\n",
        "plt.title(\"%i\" %result)\n",
        "plt.show()"
      ],
      "metadata": {
        "colab": {
          "base_uri": "https://localhost:8080/",
          "height": 316
        },
        "id": "dwUCK0ENAi7y",
        "outputId": "a41e804c-76d2-49b1-dc3b-d0696fffc2ad"
      },
      "execution_count": null,
      "outputs": [
        {
          "output_type": "stream",
          "name": "stdout",
          "text": [
            "[8]\n",
            "\n",
            "\n"
          ]
        },
        {
          "output_type": "display_data",
          "data": {
            "text/plain": [
              "<Figure size 432x288 with 1 Axes>"
            ],
            "image/png": "[encoded data removed]"
          },
          "metadata": {
            "needs_background": "light"
          }
        }
      ]
    },
    {
      "cell_type": "markdown",
      "source": [
        "**HYPERPARAMETER TUNING FOR THE MODEL'S IMPROVEMENT**"
      ],
      "metadata": {
        "id": "Jd3YMrtvEC_N"
      }
    },
    {
      "cell_type": "code",
      "source": [
        "from sklearn import svm \n",
        "model1 = svm.SVC(kernel='linear')\n",
        "model2 = svm.SVC(gamma= 0.001)\n",
        "model3 = svm.SVC(gamma=0.001,verbose=False)\n",
        "\n",
        "model1.fit(X_train,y_train)\n",
        "model2.fit(X_train, y_train)\n",
        "model3.fit(X_train,y_train) \n",
        " \n",
        " \n",
        "y_predModel1 = model1.predict(X_test)\n",
        "y_predModel2 = model2.predict(X_test) \n",
        "y_predModel3 = model3.predict(X_test)\n",
        "\n",
        "\n",
        "print(\"Accuracy of model1 is {0}%\".format(accuracy_score(y_test,y_predModel1)*100))\n",
        "print(\"Accuracy of model1 is {0}%\".format(accuracy_score(y_test,y_predModel2)*100))\n",
        "print(\"Accuracy of model1 is {0}%\".format(accuracy_score(y_test,y_predModel3)*100))"
      ],
      "metadata": {
        "colab": {
          "base_uri": "https://localhost:8080/"
        },
        "id": "0AAEDKsBEI8r",
        "outputId": "dec3e933-5774-45cc-b765-44dd20d9c87d"
      },
      "execution_count": null,
      "outputs": [
        {
          "output_type": "stream",
          "name": "stdout",
          "text": [
            "Accuracy of model1 is 97.11111111111111%\n",
            "Accuracy of model1 is 99.55555555555556%\n",
            "Accuracy of model1 is 99.55555555555556%\n"
          ]
        }
      ]
    }
  ]
}